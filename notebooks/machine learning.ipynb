{
 "cells": [
  {
   "attachments": {},
   "cell_type": "markdown",
   "metadata": {},
   "source": [
    "# superviced learning"
   ]
  },
  {
   "cell_type": "code",
   "execution_count": 40,
   "metadata": {},
   "outputs": [
    {
     "name": "stdout",
     "output_type": "stream",
     "text": [
      "   area  bedrooms  age   price\n",
      "0  2600       3.0   20  550000\n",
      "1  3000       4.0   15  565000\n",
      "2  3200       NaN   18  610000\n",
      "3  3600       3.0   30  595000\n",
      "4  4000       5.0    8  760000\n",
      "5  4100       6.0    8  810000\n"
     ]
    }
   ],
   "source": [
    "import matplotlib.pyplot as plt\n",
    "import pandas as pd\n",
    "import numpy as nm\n",
    "from sklearn import linear_model as lm\n",
    "\n",
    "df = pd.read_csv(\"homeprices.csv\")\n",
    "print(df)"
   ]
  },
  {
   "cell_type": "code",
   "execution_count": 41,
   "metadata": {},
   "outputs": [
    {
     "data": {
      "text/plain": [
       "<matplotlib.legend.Legend at 0x7f10788f34f0>"
      ]
     },
     "execution_count": 41,
     "metadata": {},
     "output_type": "execute_result"
    },
    {
     "data": {
      "image/png": "[encoded data removed]",
      "text/plain": [
       "<Figure size 640x480 with 1 Axes>"
      ]
     },
     "metadata": {},
     "output_type": "display_data"
    }
   ],
   "source": [
    "%matplotlib inline\n",
    "plt.title(\"real state price predicticn\")\n",
    "plt.scatter(df.area,df.price,label='ans',color='red',marker='*')\n",
    "plt.xlabel('area(seq_feet)')\n",
    "plt.ylabel('prices(US$)')\n",
    "plt.legend()\n",
    "#plt.plot(df.area,reg.predict(df[['area']]),color='blue')"
   ]
  },
  {
   "attachments": {},
   "cell_type": "markdown",
   "metadata": {},
   "source": [
    "# linear regression"
   ]
  },
  {
   "cell_type": "code",
   "execution_count": 3,
   "metadata": {},
   "outputs": [
    {
     "data": {
      "text/html": [
       "<style>#sk-container-id-1 {color: black;background-color: white;}#sk-container-id-1 pre{padding: 0;}#sk-container-id-1 div.sk-toggleable {background-color: white;}#sk-container-id-1 label.sk-toggleable__label {cursor: pointer;display: block;width: 100%;margin-bottom: 0;padding: 0.3em;box-sizing: border-box;text-align: center;}#sk-container-id-1 label.sk-toggleable__label-arrow:before {content: \"▸\";float: left;margin-right: 0.25em;color: #696969;}#sk-container-id-1 label.sk-toggleable__label-arrow:hover:before {color: black;}#sk-container-id-1 div.sk-estimator:hover label.sk-toggleable__label-arrow:before {color: black;}#sk-container-id-1 div.sk-toggleable__content {max-height: 0;max-width: 0;overflow: hidden;text-align: left;background-color: #f0f8ff;}#sk-container-id-1 div.sk-toggleable__content pre {margin: 0.2em;color: black;border-radius: 0.25em;background-color: #f0f8ff;}#sk-container-id-1 input.sk-toggleable__control:checked~div.sk-toggleable__content {max-height: 200px;max-width: 100%;overflow: auto;}#sk-container-id-1 input.sk-toggleable__control:checked~label.sk-toggleable__label-arrow:before {content: \"▾\";}#sk-container-id-1 div.sk-estimator input.sk-toggleable__control:checked~label.sk-toggleable__label {background-color: #d4ebff;}#sk-container-id-1 div.sk-label input.sk-toggleable__control:checked~label.sk-toggleable__label {background-color: #d4ebff;}#sk-container-id-1 input.sk-hidden--visually {border: 0;clip: rect(1px 1px 1px 1px);clip: rect(1px, 1px, 1px, 1px);height: 1px;margin: -1px;overflow: hidden;padding: 0;position: absolute;width: 1px;}#sk-container-id-1 div.sk-estimator {font-family: monospace;background-color: #f0f8ff;border: 1px dotted black;border-radius: 0.25em;box-sizing: border-box;margin-bottom: 0.5em;}#sk-container-id-1 div.sk-estimator:hover {background-color: #d4ebff;}#sk-container-id-1 div.sk-parallel-item::after {content: \"\";width: 100%;border-bottom: 1px solid gray;flex-grow: 1;}#sk-container-id-1 div.sk-label:hover label.sk-toggleable__label {background-color: #d4ebff;}#sk-container-id-1 div.sk-serial::before {content: \"\";position: absolute;border-left: 1px solid gray;box-sizing: border-box;top: 0;bottom: 0;left: 50%;z-index: 0;}#sk-container-id-1 div.sk-serial {display: flex;flex-direction: column;align-items: center;background-color: white;padding-right: 0.2em;padding-left: 0.2em;position: relative;}#sk-container-id-1 div.sk-item {position: relative;z-index: 1;}#sk-container-id-1 div.sk-parallel {display: flex;align-items: stretch;justify-content: center;background-color: white;position: relative;}#sk-container-id-1 div.sk-item::before, #sk-container-id-1 div.sk-parallel-item::before {content: \"\";position: absolute;border-left: 1px solid gray;box-sizing: border-box;top: 0;bottom: 0;left: 50%;z-index: -1;}#sk-container-id-1 div.sk-parallel-item {display: flex;flex-direction: column;z-index: 1;position: relative;background-color: white;}#sk-container-id-1 div.sk-parallel-item:first-child::after {align-self: flex-end;width: 50%;}#sk-container-id-1 div.sk-parallel-item:last-child::after {align-self: flex-start;width: 50%;}#sk-container-id-1 div.sk-parallel-item:only-child::after {width: 0;}#sk-container-id-1 div.sk-dashed-wrapped {border: 1px dashed gray;margin: 0 0.4em 0.5em 0.4em;box-sizing: border-box;padding-bottom: 0.4em;background-color: white;}#sk-container-id-1 div.sk-label label {font-family: monospace;font-weight: bold;display: inline-block;line-height: 1.2em;}#sk-container-id-1 div.sk-label-container {text-align: center;}#sk-container-id-1 div.sk-container {/* jupyter's `normalize.less` sets `[hidden] { display: none; }` but bootstrap.min.css set `[hidden] { display: none !important; }` so we also need the `!important` here to be able to override the default hidden behavior on the sphinx rendered scikit-learn.org. See: https://github.com/scikit-learn/scikit-learn/issues/21755 */display: inline-block !important;position: relative;}#sk-container-id-1 div.sk-text-repr-fallback {display: none;}</style><div id=\"sk-container-id-1\" class=\"sk-top-container\"><div class=\"sk-text-repr-fallback\"><pre>LinearRegression()</pre><b>In a Jupyter environment, please rerun this cell to show the HTML representation or trust the notebook. <br />On GitHub, the HTML representation is unable to render, please try loading this page with nbviewer.org.</b></div><div class=\"sk-container\" hidden><div class=\"sk-item\"><div class=\"sk-estimator sk-toggleable\"><input class=\"sk-toggleable__control sk-hidden--visually\" id=\"sk-estimator-id-1\" type=\"checkbox\" checked><label for=\"sk-estimator-id-1\" class=\"sk-toggleable__label sk-toggleable__label-arrow\">LinearRegression</label><div class=\"sk-toggleable__content\"><pre>LinearRegression()</pre></div></div></div></div></div>"
      ],
      "text/plain": [
       "LinearRegression()"
      ]
     },
     "execution_count": 3,
     "metadata": {},
     "output_type": "execute_result"
    }
   ],
   "source": [
    "\n",
    "reg= lm.LinearRegression()\n",
    "reg.fit(df[['area']],df.price)\n",
    "\n"
   ]
  },
  {
   "cell_type": "code",
   "execution_count": 4,
   "metadata": {},
   "outputs": [
    {
     "name": "stderr",
     "output_type": "stream",
     "text": [
      "/home/codespace/.local/lib/python3.10/site-packages/sklearn/base.py:439: UserWarning: X does not have valid feature names, but LinearRegression was fitted with feature names\n",
      "  warnings.warn(\n"
     ]
    },
    {
     "data": {
      "text/plain": [
       "array([628813.88621022])"
      ]
     },
     "execution_count": 4,
     "metadata": {},
     "output_type": "execute_result"
    }
   ],
   "source": [
    "reg.predict([[3300]])"
   ]
  },
  {
   "cell_type": "code",
   "execution_count": 5,
   "metadata": {},
   "outputs": [
    {
     "name": "stdout",
     "output_type": "stream",
     "text": [
      "[167.30954677]\n",
      "76692.38187078107\n"
     ]
    },
    {
     "data": {
      "text/plain": [
       "628813.8862117811"
      ]
     },
     "execution_count": 5,
     "metadata": {},
     "output_type": "execute_result"
    }
   ],
   "source": [
    "#y=m*x+b\n",
    "print(reg.coef_)\n",
    "\n",
    "print(reg.intercept_)\n",
    "\n",
    "167.30954677*3300+76692.38187078107"
   ]
  },
  {
   "attachments": {},
   "cell_type": "markdown",
   "metadata": {},
   "source": [
    "## prediction after train"
   ]
  },
  {
   "cell_type": "code",
   "execution_count": 6,
   "metadata": {},
   "outputs": [
    {
     "name": "stdout",
     "output_type": "stream",
     "text": [
      "   area          price\n",
      "0  2600  511697.203472\n",
      "1  3000  578621.022179\n",
      "2  3200  612082.931533\n",
      "3  3600  679006.750241\n",
      "4  4000  745930.568949\n",
      "5  4100  762661.523626\n",
      "[511697.20347155 578621.02217936 612082.93153327 679006.75024108\n",
      " 745930.56894889 762661.52362584]\n"
     ]
    }
   ],
   "source": [
    "a=pd.read_csv('abc.csv')\n",
    "p=reg.predict(a)\n",
    "a[\"price\"]=p\n",
    "print(a)\n",
    "print(p)"
   ]
  },
  {
   "cell_type": "code",
   "execution_count": 7,
   "metadata": {},
   "outputs": [],
   "source": [
    "a.to_csv(\"prediction.csv\",index=False)"
   ]
  },
  {
   "cell_type": "code",
   "execution_count": 8,
   "metadata": {},
   "outputs": [
    {
     "data": {
      "text/plain": [
       "[<matplotlib.lines.Line2D at 0x7f107bc88700>]"
      ]
     },
     "execution_count": 8,
     "metadata": {},
     "output_type": "execute_result"
    },
    {
     "data": {
      "image/png": "[encoded data removed]",
      "text/plain": [
       "<Figure size 640x480 with 1 Axes>"
      ]
     },
     "metadata": {},
     "output_type": "display_data"
    }
   ],
   "source": [
    "plt.plot(a.area,p,color='blue')"
   ]
  },
  {
   "cell_type": "code",
   "execution_count": 9,
   "metadata": {},
   "outputs": [
    {
     "name": "stdout",
     "output_type": "stream",
     "text": [
      "   area  bedrooms  age   price\n",
      "0  2600       3.0   20  550000\n",
      "1  3000       4.0   15  565000\n",
      "2  3200       NaN   18  610000\n",
      "3  3600       3.0   30  595000\n",
      "4  4000       5.0    8  760000\n",
      "5  4100       6.0    8  810000\n"
     ]
    },
    {
     "data": {
      "text/html": [
       "<div>\n",
       "<style scoped>\n",
       "    .dataframe tbody tr th:only-of-type {\n",
       "        vertical-align: middle;\n",
       "    }\n",
       "\n",
       "    .dataframe tbody tr th {\n",
       "        vertical-align: top;\n",
       "    }\n",
       "\n",
       "    .dataframe thead th {\n",
       "        text-align: right;\n",
       "    }\n",
       "</style>\n",
       "<table border=\"1\" class=\"dataframe\">\n",
       "  <thead>\n",
       "    <tr style=\"text-align: right;\">\n",
       "      <th></th>\n",
       "      <th>area</th>\n",
       "      <th>bedrooms</th>\n",
       "      <th>age</th>\n",
       "      <th>price</th>\n",
       "    </tr>\n",
       "  </thead>\n",
       "  <tbody>\n",
       "    <tr>\n",
       "      <th>0</th>\n",
       "      <td>2600</td>\n",
       "      <td>3.0</td>\n",
       "      <td>20</td>\n",
       "      <td>550000</td>\n",
       "    </tr>\n",
       "    <tr>\n",
       "      <th>1</th>\n",
       "      <td>3000</td>\n",
       "      <td>4.0</td>\n",
       "      <td>15</td>\n",
       "      <td>565000</td>\n",
       "    </tr>\n",
       "    <tr>\n",
       "      <th>2</th>\n",
       "      <td>3200</td>\n",
       "      <td>3.0</td>\n",
       "      <td>18</td>\n",
       "      <td>610000</td>\n",
       "    </tr>\n",
       "    <tr>\n",
       "      <th>3</th>\n",
       "      <td>3600</td>\n",
       "      <td>3.0</td>\n",
       "      <td>30</td>\n",
       "      <td>595000</td>\n",
       "    </tr>\n",
       "    <tr>\n",
       "      <th>4</th>\n",
       "      <td>4000</td>\n",
       "      <td>5.0</td>\n",
       "      <td>8</td>\n",
       "      <td>760000</td>\n",
       "    </tr>\n",
       "    <tr>\n",
       "      <th>5</th>\n",
       "      <td>4100</td>\n",
       "      <td>6.0</td>\n",
       "      <td>8</td>\n",
       "      <td>810000</td>\n",
       "    </tr>\n",
       "  </tbody>\n",
       "</table>\n",
       "</div>"
      ],
      "text/plain": [
       "   area  bedrooms  age   price\n",
       "0  2600       3.0   20  550000\n",
       "1  3000       4.0   15  565000\n",
       "2  3200       3.0   18  610000\n",
       "3  3600       3.0   30  595000\n",
       "4  4000       5.0    8  760000\n",
       "5  4100       6.0    8  810000"
      ]
     },
     "execution_count": 9,
     "metadata": {},
     "output_type": "execute_result"
    }
   ],
   "source": [
    "a=pd.read_csv(\"homeprices2.csv\")\n",
    "print(a)\n",
    "a.bedrooms=a.bedrooms.fillna(3.0)\n",
    "a"
   ]
  },
  {
   "cell_type": "code",
   "execution_count": 10,
   "metadata": {},
   "outputs": [
    {
     "name": "stderr",
     "output_type": "stream",
     "text": [
      "/home/codespace/.local/lib/python3.10/site-packages/sklearn/base.py:439: UserWarning: X does not have valid feature names, but LinearRegression was fitted with feature names\n",
      "  warnings.warn(\n"
     ]
    },
    {
     "data": {
      "text/plain": [
       "array([580471.76640927])"
      ]
     },
     "execution_count": 10,
     "metadata": {},
     "output_type": "execute_result"
    }
   ],
   "source": [
    "d=lm.LinearRegression()\n",
    "d.fit(a[['area','bedrooms','age']],a.price)\n",
    "d.predict([[3500,4,35]])"
   ]
  },
  {
   "attachments": {},
   "cell_type": "markdown",
   "metadata": {},
   "source": [
    "## pickel,joblib"
   ]
  },
  {
   "cell_type": "code",
   "execution_count": 11,
   "metadata": {},
   "outputs": [],
   "source": [
    "import pickle\n",
    "with open('model_pickel','wb') as f:\n",
    "    pickle.dump(d,f)\n",
    "with open('model_pickel','rb') as f:\n",
    " ab=   pickle.load(f)"
   ]
  },
  {
   "cell_type": "code",
   "execution_count": 12,
   "metadata": {},
   "outputs": [
    {
     "name": "stderr",
     "output_type": "stream",
     "text": [
      "/home/codespace/.local/lib/python3.10/site-packages/sklearn/base.py:439: UserWarning: X does not have valid feature names, but LinearRegression was fitted with feature names\n",
      "  warnings.warn(\n"
     ]
    },
    {
     "data": {
      "text/plain": [
       "array([580471.76640927])"
      ]
     },
     "execution_count": 12,
     "metadata": {},
     "output_type": "execute_result"
    }
   ],
   "source": [
    "ab.predict([[3500,4,35]])"
   ]
  },
  {
   "cell_type": "code",
   "execution_count": 13,
   "metadata": {},
   "outputs": [
    {
     "name": "stderr",
     "output_type": "stream",
     "text": [
      "/home/codespace/.local/lib/python3.10/site-packages/sklearn/base.py:439: UserWarning: X does not have valid feature names, but LinearRegression was fitted with feature names\n",
      "  warnings.warn(\n"
     ]
    },
    {
     "data": {
      "text/plain": [
       "array([580471.76640927])"
      ]
     },
     "execution_count": 13,
     "metadata": {},
     "output_type": "execute_result"
    }
   ],
   "source": [
    "from joblib import dump, load\n",
    "dump(d,'model_joblib')\n",
    "pi=load('model_joblib')\n",
    "pi.predict([[3500,4,35]])"
   ]
  },
  {
   "attachments": {},
   "cell_type": "markdown",
   "metadata": {},
   "source": [
    "## dummy variable& one hot encoding"
   ]
  },
  {
   "cell_type": "code",
   "execution_count": 43,
   "metadata": {},
   "outputs": [
    {
     "name": "stdout",
     "output_type": "stream",
     "text": [
      "                Car Model  Mileage  Sell Price($)  Age(yrs)\n",
      "0                  BMW X5    69000          18000         6\n",
      "1                  BMW X5    35000          34000         3\n",
      "2                  BMW X5    57000          26100         5\n",
      "3                  BMW X5    22500          40000         2\n",
      "4                  BMW X5    46000          31500         4\n",
      "5                 Audi A5    59000          29400         5\n",
      "6                 Audi A5    52000          32000         5\n",
      "7                 Audi A5    72000          19300         6\n",
      "8                 Audi A5    91000          12000         8\n",
      "9   Mercedez Benz C class    67000          22000         6\n",
      "10  Mercedez Benz C class    83000          20000         7\n",
      "11  Mercedez Benz C class    79000          21000         7\n",
      "12  Mercedez Benz C class    59000          33000         5\n",
      "                Car Model  Mileage  Sell Price($)  Age(yrs)  Audi A5  BMW X5  \\\n",
      "0                  BMW X5    69000          18000         6        0       1   \n",
      "1                  BMW X5    35000          34000         3        0       1   \n",
      "2                  BMW X5    57000          26100         5        0       1   \n",
      "3                  BMW X5    22500          40000         2        0       1   \n",
      "4                  BMW X5    46000          31500         4        0       1   \n",
      "5                 Audi A5    59000          29400         5        1       0   \n",
      "6                 Audi A5    52000          32000         5        1       0   \n",
      "7                 Audi A5    72000          19300         6        1       0   \n",
      "8                 Audi A5    91000          12000         8        1       0   \n",
      "9   Mercedez Benz C class    67000          22000         6        0       0   \n",
      "10  Mercedez Benz C class    83000          20000         7        0       0   \n",
      "11  Mercedez Benz C class    79000          21000         7        0       0   \n",
      "12  Mercedez Benz C class    59000          33000         5        0       0   \n",
      "\n",
      "    Mercedez Benz C class  \n",
      "0                       0  \n",
      "1                       0  \n",
      "2                       0  \n",
      "3                       0  \n",
      "4                       0  \n",
      "5                       0  \n",
      "6                       0  \n",
      "7                       0  \n",
      "8                       0  \n",
      "9                       1  \n",
      "10                      1  \n",
      "11                      1  \n",
      "12                      1  \n",
      "[36991.31721061]\n"
     ]
    },
    {
     "name": "stderr",
     "output_type": "stream",
     "text": [
      "/home/codespace/.local/lib/python3.10/site-packages/sklearn/base.py:439: UserWarning: X does not have valid feature names, but LinearRegression was fitted with feature names\n",
      "  warnings.warn(\n"
     ]
    },
    {
     "data": {
      "text/plain": [
       "0.9417050937281083"
      ]
     },
     "execution_count": 43,
     "metadata": {},
     "output_type": "execute_result"
    }
   ],
   "source": [
    "# method 1 dummy variable\n",
    "from sklearn import linear_model as model\n",
    "import pandas as pd\n",
    "dm=pd.read_csv('carprices.csv')\n",
    "dum=pd.get_dummies(dm['Car Model'])\n",
    "print(dm)\n",
    "merg =pd.concat([dm,dum],axis='columns')\n",
    "print(merg)\n",
    "abc=merg.drop(['Car Model','Mercedez Benz C class','Sell Price($)'],axis='columns')\n",
    "abc\n",
    "\n",
    "x = abc\n",
    "y = dm['Sell Price($)']\n",
    "car=model.LinearRegression()\n",
    "car.fit(x,y)\n",
    "print(car.predict([[45000,4,0,0]]))\n",
    "car.score(x,y)"
   ]
  },
  {
   "cell_type": "code",
   "execution_count": 15,
   "metadata": {},
   "outputs": [
    {
     "name": "stdout",
     "output_type": "stream",
     "text": [
      "                Car Model  Mileage  Sell Price($)  Age(yrs)\n",
      "0                  BMW X5    69000          18000         6\n",
      "1                  BMW X5    35000          34000         3\n",
      "2                  BMW X5    57000          26100         5\n",
      "3                  BMW X5    22500          40000         2\n",
      "4                  BMW X5    46000          31500         4\n",
      "5                 Audi A5    59000          29400         5\n",
      "6                 Audi A5    52000          32000         5\n",
      "7                 Audi A5    72000          19300         6\n",
      "8                 Audi A5    91000          12000         8\n",
      "9   Mercedez Benz C class    67000          22000         6\n",
      "10  Mercedez Benz C class    83000          20000         7\n",
      "11  Mercedez Benz C class    79000          21000         7\n",
      "12  Mercedez Benz C class    59000          33000         5\n",
      "    Car Model  Mileage  Sell Price($)  Age(yrs)\n",
      "0           1    69000          18000         6\n",
      "1           1    35000          34000         3\n",
      "2           1    57000          26100         5\n",
      "3           1    22500          40000         2\n",
      "4           1    46000          31500         4\n",
      "5           0    59000          29400         5\n",
      "6           0    52000          32000         5\n",
      "7           0    72000          19300         6\n",
      "8           0    91000          12000         8\n",
      "9           2    67000          22000         6\n",
      "10          2    83000          20000         7\n",
      "11          2    79000          21000         7\n",
      "12          2    59000          33000         5\n",
      "[33336.7721827]\n"
     ]
    },
    {
     "data": {
      "text/plain": [
       "0.8719970367825953"
      ]
     },
     "execution_count": 15,
     "metadata": {},
     "output_type": "execute_result"
    }
   ],
   "source": [
    "# method 2 label encoder    --half code ON ONEHOT--\n",
    "from sklearn.preprocessing import LabelEncoder\n",
    "from sklearn.preprocessing import OneHotEncoder\n",
    "from sklearn import linear_model as model\n",
    "import pandas as pd\n",
    "dm=pd.read_csv('carprices.csv')\n",
    "print(dm)\n",
    "\n",
    "le=LabelEncoder()\n",
    "dm['Car Model']=le.fit_transform(dm['Car Model'])\n",
    "print(dm)\n",
    "\n",
    "\n",
    "x = dm[['Car Model','Mileage','Age(yrs)']].values\n",
    "y = dm['Sell Price($)'].values\n",
    "car=model.LinearRegression()\n",
    "car.fit(x,y)\n",
    "print(car.predict([[2,45000,4]]))\n",
    "car.score(x,y)\n"
   ]
  },
  {
   "cell_type": "code",
   "execution_count": 16,
   "metadata": {},
   "outputs": [
    {
     "name": "stdout",
     "output_type": "stream",
     "text": [
      "   area          price\n",
      "0  2600  511697.203472\n",
      "1  3000  578621.022179\n",
      "2  3200  612082.931533\n",
      "3  3600  679006.750241\n",
      "4  4000  745930.568949\n",
      "5  4100  762661.523626\n",
      "10\n",
      "[[    2 67000     6]\n",
      " [    1 35000     3]\n",
      " [    0 91000     8]\n",
      " [    1 46000     4]\n",
      " [    0 72000     6]\n",
      " [    0 52000     5]\n",
      " [    2 83000     7]\n",
      " [    1 22500     2]\n",
      " [    2 59000     5]\n",
      " [    0 59000     5]]\n",
      "3\n"
     ]
    },
    {
     "data": {
      "text/plain": [
       "-0.008122118498374853"
      ]
     },
     "execution_count": 16,
     "metadata": {},
     "output_type": "execute_result"
    }
   ],
   "source": [
    "ab=pd.read_csv('prediction.csv')\n",
    "print(ab)\n",
    "from sklearn.model_selection import train_test_split\n",
    "x_train,x_test,y_train,y_test=train_test_split(x,y,test_size=0.2) # ,random_state=10) mean model can't use random feture\n",
    "print(len(x_train))\n",
    "print(x_train)\n",
    "print(len(x_test))\n",
    "a=lm.LinearRegression()\n",
    "a.fit(x_train,y_train)\n",
    "a.predict(x_test)\n",
    "a.score(x_test,y_test)\n"
   ]
  },
  {
   "attachments": {},
   "cell_type": "markdown",
   "metadata": {},
   "source": [
    "## logistic rigression"
   ]
  },
  {
   "cell_type": "code",
   "execution_count": 17,
   "metadata": {},
   "outputs": [
    {
     "name": "stdout",
     "output_type": "stream",
     "text": [
      "    age\n",
      "9    61\n",
      "13   29\n",
      "7    60\n",
      "6    55\n",
      "2    47\n",
      "[0 0 0 1 1 1]\n",
      "0.8333333333333334\n",
      "[[0.93436548 0.06563452]\n",
      " [0.94338849 0.05661151]\n",
      " [0.95804375 0.04195625]\n",
      " [0.27553178 0.72446822]\n",
      " [0.08438277 0.91561723]\n",
      " [0.41660285 0.58339715]]\n"
     ]
    }
   ],
   "source": [
    "from sklearn.linear_model import LogisticRegression\n",
    "from sklearn.model_selection import train_test_split\n",
    "import pandas as pd\n",
    "a=pd.read_csv('insurance_data.csv')\n",
    "x_train,x_test,y_train,y_test= train_test_split(a[['age']],a.bought_insurance,test_size=0.2)\n",
    "print(x_train.head(5))\n",
    "a=LogisticRegression()\n",
    "a.fit(x_train,y_train)\n",
    "print(a.predict(x_test))\n",
    "print(a.score(x_test,y_test))\n",
    "print(a.predict_proba(x_test))\n",
    "\n"
   ]
  },
  {
   "cell_type": "code",
   "execution_count": 18,
   "metadata": {},
   "outputs": [
    {
     "name": "stdout",
     "output_type": "stream",
     "text": [
      "[1]\n",
      "[0]\n"
     ]
    },
    {
     "name": "stderr",
     "output_type": "stream",
     "text": [
      "/home/codespace/.local/lib/python3.10/site-packages/sklearn/base.py:439: UserWarning: X does not have valid feature names, but LogisticRegression was fitted with feature names\n",
      "  warnings.warn(\n",
      "/home/codespace/.local/lib/python3.10/site-packages/sklearn/base.py:439: UserWarning: X does not have valid feature names, but LogisticRegression was fitted with feature names\n",
      "  warnings.warn(\n"
     ]
    }
   ],
   "source": [
    "print(a.predict([[55]])) #  buy insurance\n",
    "print(a.predict([[25]])) #  not buy insurance"
   ]
  },
  {
   "cell_type": "code",
   "execution_count": 19,
   "metadata": {},
   "outputs": [
    {
     "name": "stdout",
     "output_type": "stream",
     "text": [
      "[5]\n",
      "5\n",
      "0.9555555555555556\n"
     ]
    },
    {
     "name": "stderr",
     "output_type": "stream",
     "text": [
      "/home/codespace/.local/lib/python3.10/site-packages/sklearn/linear_model/_logistic.py:458: ConvergenceWarning: lbfgs failed to converge (status=1):\n",
      "STOP: TOTAL NO. of ITERATIONS REACHED LIMIT.\n",
      "\n",
      "Increase the number of iterations (max_iter) or scale the data as shown in:\n",
      "    https://scikit-learn.org/stable/modules/preprocessing.html\n",
      "Please also refer to the documentation for alternative solver options:\n",
      "    https://scikit-learn.org/stable/modules/linear_model.html#logistic-regression\n",
      "  n_iter_i = _check_optimize_result(\n"
     ]
    },
    {
     "data": {
      "text/plain": [
       "<Figure size 640x480 with 0 Axes>"
      ]
     },
     "metadata": {},
     "output_type": "display_data"
    },
    {
     "data": {
      "image/png": "[encoded data removed]",
      "text/plain": [
       "<Figure size 480x480 with 1 Axes>"
      ]
     },
     "metadata": {},
     "output_type": "display_data"
    }
   ],
   "source": [
    "%matplotlib inline\n",
    "import matplotlib.pyplot as plt\n",
    "from sklearn.datasets import load_digits\n",
    "from sklearn.model_selection import train_test_split\n",
    "from sklearn.linear_model import LogisticRegression\n",
    "a=load_digits()\n",
    "dir(a)\n",
    "b=a.images\n",
    "plt.gray()\n",
    "plt.matshow(b[15])\n",
    "x_train,x_test,y_train,y_test=train_test_split(a.data,a.target,test_size=0.2)\n",
    "c = LogisticRegression()\n",
    "c.fit(x_train,y_train)\n",
    "print(c.predict(a.data[[15]]))\n",
    "\n",
    "print(a.target[15])\n",
    "print(c.score(x_test,y_test))\n",
    "\n"
   ]
  },
  {
   "cell_type": "code",
   "execution_count": 20,
   "metadata": {},
   "outputs": [
    {
     "data": {
      "text/plain": [
       "array([[40,  0,  0,  0,  0,  1,  0,  0,  0,  0],\n",
       "       [ 0, 38,  0,  0,  1,  0,  0,  0,  3,  1],\n",
       "       [ 0,  0, 35,  1,  0,  0,  0,  0,  1,  0],\n",
       "       [ 0,  0,  0, 38,  0,  1,  0,  0,  0,  0],\n",
       "       [ 0,  0,  0,  0, 29,  0,  0,  1,  0,  0],\n",
       "       [ 0,  0,  0,  0,  0, 35,  0,  0,  0,  0],\n",
       "       [ 0,  0,  0,  0,  0,  0, 40,  0,  0,  0],\n",
       "       [ 0,  0,  0,  0,  0,  0,  0, 27,  0,  1],\n",
       "       [ 0,  0,  0,  1,  0,  0,  1,  0, 26,  1],\n",
       "       [ 0,  0,  0,  1,  0,  0,  0,  1,  0, 36]])"
      ]
     },
     "execution_count": 20,
     "metadata": {},
     "output_type": "execute_result"
    }
   ],
   "source": [
    "from sklearn.metrics import confusion_matrix\n",
    "d=c.predict(x_test)\n",
    "confusion_matrix(d,y_test)"
   ]
  },
  {
   "attachments": {},
   "cell_type": "markdown",
   "metadata": {},
   "source": [
    "## decision tree"
   ]
  },
  {
   "cell_type": "code",
   "execution_count": 21,
   "metadata": {},
   "outputs": [
    {
     "name": "stdout",
     "output_type": "stream",
     "text": [
      "[1]\n",
      "0.5\n",
      "    company  job  degree\n",
      "4         2    1       0\n",
      "13        1    0       1\n",
      "10        1    2       0\n",
      "2         2    0       0\n",
      "5         2    1       1\n",
      "15        1    1       1\n",
      "11        1    2       1\n",
      "12        1    0       0\n",
      "3         2    0       1\n",
      "0         2    2       0\n",
      "7         0    1       0\n",
      "8         0    0       0\n"
     ]
    },
    {
     "name": "stderr",
     "output_type": "stream",
     "text": [
      "/home/codespace/.local/lib/python3.10/site-packages/sklearn/base.py:439: UserWarning: X does not have valid feature names, but DecisionTreeClassifier was fitted with feature names\n",
      "  warnings.warn(\n"
     ]
    }
   ],
   "source": [
    "from sklearn.preprocessing import LabelEncoder\n",
    "from sklearn import tree\n",
    "import pandas as pd\n",
    "from sklearn.model_selection import train_test_split\n",
    "\n",
    "a=pd.read_csv('salaries.csv')\n",
    "b=LabelEncoder()\n",
    "a['company']=b.fit_transform(a['company'])\n",
    "a['job']=b.fit_transform(a['job'])\n",
    "a['degree']=b.fit_transform(a['degree'])\n",
    "\n",
    "b=a.drop(['salary_more_then_100k'],axis='columns')\n",
    "x=b\n",
    "y=a['salary_more_then_100k']\n",
    "\n",
    "x_train,x_test,y_train,y_test=train_test_split(x,y,test_size=0.2)\n",
    "c=tree.DecisionTreeClassifier()\n",
    "c.fit(x_train,y_train)\n",
    "print(c.predict([[2,2,3]]))\n",
    "print(c.score(x_test,y_test))\n",
    "print(x_train)\n",
    "\n"
   ]
  },
  {
   "attachments": {},
   "cell_type": "markdown",
   "metadata": {},
   "source": [
    "## support vector machine"
   ]
  },
  {
   "cell_type": "code",
   "execution_count": 22,
   "metadata": {},
   "outputs": [
    {
     "name": "stdout",
     "output_type": "stream",
     "text": [
      "['DESCR', 'data', 'data_module', 'feature_names', 'filename', 'frame', 'target', 'target_names']\n",
      "[1 0 0 0 2 1 1 2 2 1 0 1 1 0 0 0 2 2 2 2 0 2 2 1 0 0 1 1 2 0 2 2 1 0 0 2 1\n",
      " 0 2 2 0 0 0 2 1 0 1 0 2 2 0 2 0 2 2 1 2 2 0 1 2 1 1 2 2 2 1 1 1 0 0 0 0 1\n",
      " 0 2 1 1 0 2 2 1 2 2 0 1 1 0 1 2 2 0 0 0 2 2 2 2 2 1 1 1 0 2 1 1 0 2 0 0 0\n",
      " 1 1 0 2 2 1 1 0 1]\n",
      "0.95\n"
     ]
    },
    {
     "data": {
      "image/png": "[encoded data removed]",
      "text/plain": [
       "<Figure size 640x480 with 1 Axes>"
      ]
     },
     "metadata": {},
     "output_type": "display_data"
    }
   ],
   "source": [
    "from sklearn.svm import SVC\n",
    "import pandas as pd\n",
    "from sklearn.datasets import load_iris\n",
    "from matplotlib import pyplot as plt\n",
    "from sklearn.model_selection import train_test_split\n",
    "\n",
    "iris=load_iris()\n",
    "print(dir(iris))\n",
    "\n",
    "\n",
    "df=pd.DataFrame(iris.data,columns=iris.feature_names)\n",
    "df['target']=iris.target\n",
    "df['flower_name'] = df.target.apply(lambda x: iris.target_names[x])\n",
    "#df[df.target==2]\n",
    "df0 = df[df.target==0]\n",
    "df1 = df[df.target==1]\n",
    "df2 = df[df.target==2]\n",
    "# sepal le,we\n",
    "plt.scatter(df0['sepal length (cm)'],df0['sepal width (cm)'],color='red',marker='+')\n",
    "plt.scatter(df1['sepal length (cm)'],df1['sepal width (cm)'],color='blue',marker='*')\n",
    "plt.scatter(df2['sepal length (cm)'],df2['sepal width (cm)'],color='green',marker='.')\n",
    "plt.xlabel('sepal length (cm)')\n",
    "plt.ylabel('sepal width (cm)')\n",
    "#second method\n",
    "      \n",
    "plt.scatter(df['petal length (cm)'],df['petal width (cm)'],color='red',marker='+')\n",
    "plt.scatter(df['sepal length (cm)'],df['sepal width (cm)'],color='blue',marker='*')\n",
    "\n",
    "\n",
    "x=df.drop(['target','flower_name'],axis='columns')\n",
    "y=iris.target\n",
    "x_train,x_test,y_train,y_test=train_test_split(x,y,train_size=0.2)\n",
    "\n",
    "a=SVC(gamma='scale') # ,kernel='linear'\n",
    "a.fit(x_train,y_train)\n",
    "b=print(a.predict(x_test))\n",
    "print(a.score(x_test,y_test))\n"
   ]
  },
  {
   "cell_type": "code",
   "execution_count": 23,
   "metadata": {},
   "outputs": [
    {
     "data": {
      "text/plain": [
       "array([0, 2, 0, 2, 0, 0, 2, 1, 1, 2, 0, 1, 1, 2, 1, 2, 1, 2, 0, 1, 1, 2,\n",
       "       2, 2, 0, 1, 1, 0, 2, 0])"
      ]
     },
     "execution_count": 23,
     "metadata": {},
     "output_type": "execute_result"
    }
   ],
   "source": [
    "x_train,x_test,y_train,y_test=train_test_split(x,y,test_size=0.2)\n",
    "a.predict(x_test)"
   ]
  },
  {
   "attachments": {},
   "cell_type": "markdown",
   "metadata": {},
   "source": [
    "## random forest"
   ]
  },
  {
   "cell_type": "code",
   "execution_count": 24,
   "metadata": {},
   "outputs": [
    {
     "name": "stdout",
     "output_type": "stream",
     "text": [
      "0.9638888888888889\n",
      "[3 7 3 3 1 8 6 9 2 4 4 6 0 3 1 7 5 4 9 0 0 1 1 0 6 2 5 3 8 2 4 0 9 7 0 0 8\n",
      " 3 3 3 3 5 2 1 8 6 0 6 0 3 0 8 7 9 9 1 9 0 6 8 5 6 1 5 4 6 7 7 4 0 5 6 8 0\n",
      " 9 2 8 9 0 6 8 1 8 6 0 7 2 4 0 2 2 4 4 6 3 2 9 5 5 1 3 0 7 2 7 4 1 6 2 0 9\n",
      " 9 4 4 4 7 7 9 7 4 7 3 8 9 1 5 4 8 9 6 3 4 2 3 3 9 9 7 0 6 8 2 7 3 2 2 5 7\n",
      " 2 1 7 9 3 4 2 6 6 4 2 0 8 7 7 7 6 6 9 4 9 1 6 4 6 6 9 1 3 8 1 9 4 3 4 9 8\n",
      " 2 9 4 5 8 8 6 4 2 3 0 3 0 5 2 4 8 5 7 7 8 9 7 7 5 1 1 7 2 8 8 4 8 9 1 1 9\n",
      " 6 0 9 4 4 4 8 3 9 5 6 5 7 3 7 6 0 4 5 2 5 6 8 0 2 6 1 7 7 4 2 6 8 4 5 9 3\n",
      " 2 6 4 0 1 4 3 2 9 6 6 4 7 2 6 8 2 9 8 2 7 7 3 5 3 2 9 9 4 8 6 6 3 5 5 4 2\n",
      " 1 4 6 3 4 3 3 5 8 8 9 2 6 0 7 7 5 7 2 4 9 0 2 0 5 1 3 0 5 1 1 5 2 5 3 2 0\n",
      " 8 2 7 3 6 8 3 5 5 4 9 1 7 3 3 3 9 3 5 0 7 5 4 3 2 1 9]\n"
     ]
    }
   ],
   "source": [
    "from sklearn.ensemble import RandomForestClassifier\n",
    "from sklearn.model_selection import train_test_split\n",
    "import pandas as pd\n",
    "from matplotlib import pyplot as plt\n",
    "from sklearn.datasets import load_digits\n",
    "from sklearn.metrics import confusion_matrix\n",
    "\n",
    "digit = load_digits()\n",
    "dir(digit)\n",
    "\n",
    "df = pd.DataFrame(digit.data)\n",
    "\n",
    "#df['target']= digit.target\n",
    "#df['target_names']=df.target.apply(lambda x : digit.target_names[x])\n",
    "#plt.gray()\n",
    "#for i in range(2):\n",
    "#    plt.matshow(digit.images[i])\n",
    "\n",
    "#x= df.drop(['target','target_names'],axis='columns')\n",
    "#y = df.target\n",
    "\n",
    "x_train,x_test,y_train,y_test=train_test_split(digit.data,digit.target,test_size=0.2)\n",
    "rm=RandomForestClassifier(n_estimators=50)\n",
    "rm.fit(x_train,y_train)\n",
    "b=rm.predict(x_test)\n",
    "a=rm.score(x_test,y_test)\n",
    "print(a)\n",
    "print(b)\n"
   ]
  },
  {
   "cell_type": "code",
   "execution_count": 25,
   "metadata": {},
   "outputs": [
    {
     "data": {
      "text/plain": [
       "Text(95.72222222222221, 0.5, 'Truth')"
      ]
     },
     "execution_count": 25,
     "metadata": {},
     "output_type": "execute_result"
    },
    {
     "data": {
      "image/png": "[encoded data removed]",
      "text/plain": [
       "<Figure size 1000x700 with 2 Axes>"
      ]
     },
     "metadata": {},
     "output_type": "display_data"
    }
   ],
   "source": [
    "c=confusion_matrix(y_test,b)\n",
    "import seaborn as sn\n",
    "plt.figure(figsize=(10,7))\n",
    "sn.heatmap( c, annot=True)\n",
    "plt.xlabel('Predicted')\n",
    "plt.ylabel('Truth')"
   ]
  },
  {
   "attachments": {},
   "cell_type": "markdown",
   "metadata": {},
   "source": [
    "## k fold cross validation & hypar tuning gridserchcv and rendomserchcv"
   ]
  },
  {
   "cell_type": "code",
   "execution_count": 1,
   "metadata": {},
   "outputs": [
    {
     "name": "stderr",
     "output_type": "stream",
     "text": [
      "/home/codespace/.local/lib/python3.10/site-packages/sklearn/linear_model/_logistic.py:458: ConvergenceWarning: lbfgs failed to converge (status=1):\n",
      "STOP: TOTAL NO. of ITERATIONS REACHED LIMIT.\n",
      "\n",
      "Increase the number of iterations (max_iter) or scale the data as shown in:\n",
      "    https://scikit-learn.org/stable/modules/preprocessing.html\n",
      "Please also refer to the documentation for alternative solver options:\n",
      "    https://scikit-learn.org/stable/modules/linear_model.html#logistic-regression\n",
      "  n_iter_i = _check_optimize_result(\n",
      "/home/codespace/.local/lib/python3.10/site-packages/sklearn/linear_model/_logistic.py:458: ConvergenceWarning: lbfgs failed to converge (status=1):\n",
      "STOP: TOTAL NO. of ITERATIONS REACHED LIMIT.\n",
      "\n",
      "Increase the number of iterations (max_iter) or scale the data as shown in:\n",
      "    https://scikit-learn.org/stable/modules/preprocessing.html\n",
      "Please also refer to the documentation for alternative solver options:\n",
      "    https://scikit-learn.org/stable/modules/linear_model.html#logistic-regression\n",
      "  n_iter_i = _check_optimize_result(\n"
     ]
    },
    {
     "name": "stdout",
     "output_type": "stream",
     "text": [
      "0.9518518518518518\n",
      "0.9796296296296296\n",
      "0.9648148148148148\n"
     ]
    },
    {
     "name": "stderr",
     "output_type": "stream",
     "text": [
      "/home/codespace/.local/lib/python3.10/site-packages/sklearn/linear_model/_logistic.py:458: ConvergenceWarning: lbfgs failed to converge (status=1):\n",
      "STOP: TOTAL NO. of ITERATIONS REACHED LIMIT.\n",
      "\n",
      "Increase the number of iterations (max_iter) or scale the data as shown in:\n",
      "    https://scikit-learn.org/stable/modules/preprocessing.html\n",
      "Please also refer to the documentation for alternative solver options:\n",
      "    https://scikit-learn.org/stable/modules/linear_model.html#logistic-regression\n",
      "  n_iter_i = _check_optimize_result(\n"
     ]
    },
    {
     "name": "stdout",
     "output_type": "stream",
     "text": [
      "[0.96666667 1.         0.93333333 0.96666667 1.        ]\n",
      "[0.96666667 0.96666667 0.96666667 0.93333333 1.        ]\n",
      "[0.96666667 0.96666667 0.93333333 0.96666667 1.        ]\n",
      "0.9733333333333334\n",
      "0.9666666666666666\n",
      "0.9666666666666668\n"
     ]
    }
   ],
   "source": [
    "from sklearn.linear_model import LogisticRegression\n",
    "from sklearn.svm import SVC\n",
    "from sklearn.ensemble import RandomForestClassifier\n",
    "import pandas as pd\n",
    "import numpy as nm\n",
    "from sklearn.datasets import load_digits\n",
    "from sklearn.model_selection import train_test_split\n",
    "\n",
    "digit= load_digits()\n",
    "x_train,x_test,y_train,y_test=train_test_split(digit.data,digit.target,test_size=0.3)\n",
    "\n",
    "lr=LogisticRegression()\n",
    "lr.fit(x_train,y_train)\n",
    "lr.score(x_test,y_test)\n",
    "\n",
    "sv=SVC()\n",
    "sv.fit(x_train,y_train)\n",
    "sv.score(x_test,y_test)\n",
    "\n",
    "rf=RandomForestClassifier()\n",
    "rf.fit(x_train,y_train)\n",
    "rf.score(x_test,y_test)\n",
    "\n",
    "def score(model,x_train,x_test,y_train,y_test):\n",
    "    model.fit(x_train,y_train)\n",
    "    return model.score(x_test,y_test)\n",
    "\n",
    "print(score(LogisticRegression(),x_train,x_test,y_train,y_test))\n",
    "print(score(SVC(),x_train,x_test,y_train,y_test))\n",
    "print(score(RandomForestClassifier(),x_train,x_test,y_train,y_test))\n",
    "\n",
    "#from sklearn.model_selection import KFold\n",
    "#kf=KFold(n_splits=3)\n",
    "#for train_data,test_data in kf.split([1,2,3,4,5,6,7,8,9]):\n",
    "#    print(train_data,test_data)\n",
    "\n",
    "#best example on iris dataset because divied flower name wise and kfold not ,so use strificedKfold , cross val use defalt strificedKfold\n",
    "from sklearn.model_selection import cross_val_score\n",
    "from sklearn.datasets import load_iris\n",
    "iris=load_iris()\n",
    "lr1=cross_val_score(LogisticRegression(),iris.data,iris.target,cv=5) # cv mean n_splite in cross val, defalt cv=3\n",
    "sv1=cross_val_score(SVC(),iris.data,iris.target,cv=5)\n",
    "rf1=cross_val_score(RandomForestClassifier(n_estimators=50),iris.data,iris.target,cv=5)\n",
    "print(lr1)\n",
    "print(sv1)\n",
    "print(rf1)\n",
    "print(nm.average(lr1))\n",
    "print(nm.average(sv1))\n",
    "print(nm.average(rf1))\n",
    "\n",
    "\n"
   ]
  },
  {
   "cell_type": "code",
   "execution_count": 2,
   "metadata": {},
   "outputs": [
    {
     "name": "stdout",
     "output_type": "stream",
     "text": [
      "{'mean_fit_time': array([0.00140944, 0.00070353, 0.00081291, 0.00072975, 0.00075665,\n",
      "       0.00067272]), 'std_fit_time': array([6.33180257e-04, 3.64605544e-05, 6.73927301e-05, 5.68939670e-05,\n",
      "       1.69371861e-05, 1.34452860e-05]), 'mean_score_time': array([0.00073071, 0.00050116, 0.00057402, 0.0004734 , 0.00051622,\n",
      "       0.00047364]), 'std_score_time': array([1.17660127e-04, 4.71263739e-05, 4.82868201e-05, 1.15080872e-05,\n",
      "       2.87684990e-05, 1.80768457e-05]), 'param_C': masked_array(data=[1, 1, 10, 10, 20, 20],\n",
      "             mask=[False, False, False, False, False, False],\n",
      "       fill_value='?',\n",
      "            dtype=object), 'param_kernel': masked_array(data=['rbf', 'linear', 'rbf', 'linear', 'rbf', 'linear'],\n",
      "             mask=[False, False, False, False, False, False],\n",
      "       fill_value='?',\n",
      "            dtype=object), 'params': [{'C': 1, 'kernel': 'rbf'}, {'C': 1, 'kernel': 'linear'}, {'C': 10, 'kernel': 'rbf'}, {'C': 10, 'kernel': 'linear'}, {'C': 20, 'kernel': 'rbf'}, {'C': 20, 'kernel': 'linear'}], 'split0_test_score': array([0.96666667, 0.96666667, 0.96666667, 1.        , 0.96666667,\n",
      "       1.        ]), 'split1_test_score': array([1., 1., 1., 1., 1., 1.]), 'split2_test_score': array([0.96666667, 0.96666667, 0.96666667, 0.9       , 0.9       ,\n",
      "       0.9       ]), 'split3_test_score': array([0.96666667, 0.96666667, 0.96666667, 0.96666667, 0.96666667,\n",
      "       0.93333333]), 'split4_test_score': array([1., 1., 1., 1., 1., 1.]), 'mean_test_score': array([0.98      , 0.98      , 0.98      , 0.97333333, 0.96666667,\n",
      "       0.96666667]), 'std_test_score': array([0.01632993, 0.01632993, 0.01632993, 0.03887301, 0.03651484,\n",
      "       0.0421637 ]), 'rank_test_score': array([1, 1, 1, 4, 5, 6], dtype=int32)}\n",
      "0.9800000000000001\n",
      "{'C': 1, 'kernel': 'rbf'}\n",
      "SVC(C=1, gamma='auto')\n",
      "0.9866666666666667\n",
      "{'mean_fit_time': array([0.00068789, 0.00071092]), 'std_fit_time': array([2.67931570e-05, 4.91740039e-05]), 'mean_score_time': array([0.00047078, 0.00053644]), 'std_score_time': array([5.50039465e-06, 1.26155829e-04]), 'param_kernel': masked_array(data=['linear', 'linear'],\n",
      "             mask=[False, False],\n",
      "       fill_value='?',\n",
      "            dtype=object), 'param_C': masked_array(data=[1, 20],\n",
      "             mask=[False, False],\n",
      "       fill_value='?',\n",
      "            dtype=object), 'params': [{'kernel': 'linear', 'C': 1}, {'kernel': 'linear', 'C': 20}], 'split0_test_score': array([0.96666667, 1.        ]), 'split1_test_score': array([1., 1.]), 'split2_test_score': array([0.96666667, 0.9       ]), 'split3_test_score': array([0.96666667, 0.93333333]), 'split4_test_score': array([1., 1.]), 'mean_test_score': array([0.98      , 0.96666667]), 'std_test_score': array([0.01632993, 0.0421637 ]), 'rank_test_score': array([1, 2], dtype=int32)}\n",
      "0.9800000000000001\n",
      "{'kernel': 'linear', 'C': 1}\n",
      "SVC(C=1, gamma='auto', kernel='linear')\n",
      "0.9933333333333333\n"
     ]
    }
   ],
   "source": [
    "#find best perameter for model\n",
    "from sklearn.model_selection import GridSearchCV\n",
    "clf=GridSearchCV(SVC(gamma='auto'),{\n",
    "        'C':[1,10,20],\n",
    "        'kernel':['rbf','linear']\n",
    "        },cv=5,return_train_score=False)\n",
    "clf.fit(iris.data,iris.target)\n",
    "print(clf.cv_results_)\n",
    "df1=pd.DataFrame(clf.cv_results_)\n",
    "gsc=df1[['param_C','param_kernel','mean_test_score']]\n",
    "print(clf.best_score_)\n",
    "print(clf.best_params_)\n",
    "print(clf.best_estimator_)\n",
    "print(clf.score(iris.data,iris.target))\n",
    "\n",
    "\n",
    "#random search cv(get rendom perameter,use when data is large and computer power is low)\n",
    "from sklearn.model_selection import RandomizedSearchCV\n",
    "rs=RandomizedSearchCV(SVC(gamma='auto'),{\n",
    "        'C':[1,10,20],\n",
    "        'kernel':['rbf','linear']\n",
    "        },cv=5,return_train_score=False,n_iter=2) # n_iter mean how many time rendomly select perameter\n",
    "rs.fit(iris.data,iris.target)\n",
    "print(rs.cv_results_)\n",
    "df2=pd.DataFrame(rs.cv_results_)\n",
    "rsc=df2[['param_C','param_kernel','mean_test_score']]\n",
    "print(rs.best_score_)\n",
    "print(rs.best_params_)\n",
    "print(rs.best_estimator_)\n",
    "print(rs.score(iris.data,iris.target))\n"
   ]
  },
  {
   "cell_type": "code",
   "execution_count": 3,
   "metadata": {},
   "outputs": [
    {
     "name": "stdout",
     "output_type": "stream",
     "text": [
      "  param_C param_kernel  mean_test_score\n",
      "0       1          rbf         0.980000\n",
      "1       1       linear         0.980000\n",
      "2      10          rbf         0.980000\n",
      "3      10       linear         0.973333\n",
      "4      20          rbf         0.966667\n",
      "5      20       linear         0.966667\n",
      "  param_C param_kernel  mean_test_score\n",
      "0       1       linear         0.980000\n",
      "1      20       linear         0.966667\n"
     ]
    }
   ],
   "source": [
    "\n",
    "gsc=df1[['param_C','param_kernel','mean_test_score']]\n",
    "rsc=df2[['param_C','param_kernel','mean_test_score']] # find for 2 sample because n_iter=2\n",
    "print(gsc)\n",
    "print(rsc)"
   ]
  },
  {
   "attachments": {},
   "cell_type": "markdown",
   "metadata": {},
   "source": [
    "# navies bays algo 1"
   ]
  },
  {
   "cell_type": "code",
   "execution_count": 29,
   "metadata": {},
   "outputs": [
    {
     "name": "stdout",
     "output_type": "stream",
     "text": [
      "0.7262569832402235\n",
      "[1 1 1 1 0 0 0 0 0 1]\n",
      "[[1.05341213e-02 9.89465879e-01]\n",
      " [4.18651198e-06 9.99995813e-01]\n",
      " [1.79220648e-02 9.82077935e-01]\n",
      " [1.42194949e-02 9.85780505e-01]\n",
      " [9.83856341e-01 1.61436589e-02]\n",
      " [9.82411071e-01 1.75889287e-02]\n",
      " [9.84536132e-01 1.54638684e-02]\n",
      " [9.85150619e-01 1.48493810e-02]\n",
      " [9.85282580e-01 1.47174200e-02]\n",
      " [9.50699672e-03 9.90493003e-01]]\n"
     ]
    }
   ],
   "source": [
    "from sklearn.naive_bayes import GaussianNB\n",
    "from sklearn.model_selection import train_test_split\n",
    "import pandas as pd\n",
    "\n",
    "a=pd.read_csv('titanic.csv')\n",
    "b=a.drop(['PassengerId','Name','Pclass','SibSp','Parch','Ticket','Cabin','Embarked'],axis='columns')\n",
    "\n",
    "x=b.drop('Survived',axis='columns')\n",
    "y=a.Survived\n",
    "\n",
    "dumm=pd.get_dummies(x.Sex)\n",
    "x1=pd.concat([x,dumm],axis='columns')\n",
    "x2=x1.drop('Sex',axis='columns')\n",
    "x2['Age']=x2.Age.fillna(x2.Age.mean())\n",
    "\n",
    "x_train,x_test,y_train,y_test=train_test_split(x2,y,test_size=0.2)\n",
    "model=GaussianNB()\n",
    "model.fit(x_train,y_train)\n",
    "print(model.score(x_test,y_test))\n",
    "print(model.predict(x_test[:10]))\n",
    "print(model.predict_proba(x_test[:10]))\n"
   ]
  },
  {
   "attachments": {},
   "cell_type": "markdown",
   "metadata": {},
   "source": [
    "# navies byes algo 2"
   ]
  },
  {
   "cell_type": "code",
   "execution_count": 30,
   "metadata": {},
   "outputs": [
    {
     "name": "stdout",
     "output_type": "stream",
     "text": [
      "0.9874439461883409\n",
      "[0 0 1 0 0 0 0 0 0 1]\n",
      "[0 1]\n"
     ]
    }
   ],
   "source": [
    "from sklearn.model_selection import train_test_split\n",
    "import pandas as pd\n",
    "from sklearn.naive_bayes import MultinomialNB\n",
    "from sklearn.feature_extraction.text import CountVectorizer\n",
    "\n",
    "a=pd.read_csv('spam.csv')\n",
    "a['Category']=a.Category.apply(lambda x:1 if x=='spam' else 0)\n",
    "\n",
    "\n",
    "#vectorizer = CountVectorizer()\n",
    "#X = vectorizer.fit_transform(a.Message)\n",
    "##print(X.toarray())\n",
    "#\n",
    "#\n",
    "#x_train,x_test,y_train,y_test=train_test_split(x,a.Category,test_size=0.2)\n",
    "#model=MultinomialNB()\n",
    "#model.fit(x_train,y_train)\n",
    "#print(model.score(x_test,y_test))\n",
    "#print(model.predict(x_test[:10]))\n",
    "#print(model.predict_proba(x_test[:10]))\n",
    "\n",
    "spam=[\n",
    "    \"Go until jurong point, crazy.. Available only in bugis n great world la e buffet... Cine there got amore wat...\",\n",
    "    \"Upto 20% discount on parking, exclusive offer just for you. Dont miss this reward!\"\n",
    "]\n",
    "#abc=vectorizer.transform(spam)\n",
    "#print(model.predict(abc))\n",
    "\n",
    "x_train,x_test,y_train,y_test=train_test_split(a.Message,a.Category,test_size=0.2)\n",
    "from sklearn.pipeline import Pipeline\n",
    "clf = Pipeline([\n",
    "    ('vectorizer', CountVectorizer()),\n",
    "    ('nb', MultinomialNB())\n",
    "])\n",
    "clf.fit(x_train,y_train)\n",
    "print(clf.score(x_test,y_test))\n",
    "print(clf.predict(x_test[:10]))\n",
    "print(clf.predict(spam))\n",
    "\n"
   ]
  },
  {
   "attachments": {},
   "cell_type": "markdown",
   "metadata": {},
   "source": [
    "## l1(lasso) & l2(ridge) regulization(overfitting to balanced fitting)"
   ]
  },
  {
   "cell_type": "code",
   "execution_count": 1,
   "metadata": {},
   "outputs": [
    {
     "name": "stdout",
     "output_type": "stream",
     "text": [
      "0.41697214621429135\n",
      "-0.004714319916307108\n",
      "0.39088488880729166\n"
     ]
    }
   ],
   "source": [
    "from sklearn.model_selection import train_test_split\n",
    "from sklearn.linear_model import LinearRegression\n",
    "import pandas as pd\n",
    "\n",
    "a=pd.read_csv('titanic.csv') # data set are wrong for lasso and ridge but used\n",
    "\n",
    "a.isna().sum()\n",
    "#a.dropna(inplace=True) # drop all row which have nan value\n",
    "\n",
    "a['Cabin']=a.Cabin.fillna(0)\n",
    "a.fillna(a.Age.mean(),inplace=True)\n",
    "a.isna().sum()\n",
    "a.head(100)\n",
    "\n",
    "dum=pd.get_dummies(a,drop_first=True) # drop_first=True drop first column of each dumm variable(index)\n",
    "x=dum.drop('Survived',axis='columns')\n",
    "y=dum.Survived\n",
    "\n",
    "lr=LinearRegression()\n",
    "x_train,x_test,y_train,y_test=train_test_split(x,y,test_size=0.2)\n",
    "lr.fit(x_train,y_train)\n",
    "print(lr.score(x_test,y_test))  # score is not good because data is not linear so use lasso and ridge\n",
    "\n",
    "import sklearn.linear_model as lm\n",
    "lasso=lm.Lasso(alpha=50, max_iter=100, tol=0.1)\n",
    "ridge=lm.Ridge(alpha=50, max_iter=100, tol=0.1)\n",
    "lasso.fit(x_train,y_train)\n",
    "ridge.fit(x_train,y_train)\n",
    "print(lasso.score(x_test,y_test))    # score is good because dataset wrong\n",
    "print(ridge.score(x_test,y_test))    # score is good because dataset wrong"
   ]
  },
  {
   "attachments": {},
   "cell_type": "markdown",
   "metadata": {},
   "source": [
    "# unsuperviced learning"
   ]
  },
  {
   "attachments": {},
   "cell_type": "markdown",
   "metadata": {},
   "source": [
    "## k mean clustring"
   ]
  },
  {
   "cell_type": "code",
   "execution_count": 2,
   "metadata": {},
   "outputs": [
    {
     "name": "stderr",
     "output_type": "stream",
     "text": [
      "/home/codespace/.local/lib/python3.10/site-packages/sklearn/cluster/_kmeans.py:870: FutureWarning: The default value of `n_init` will change from 10 to 'auto' in 1.4. Set the value of `n_init` explicitly to suppress the warning\n",
      "  warnings.warn(\n"
     ]
    },
    {
     "data": {
      "text/plain": [
       "<matplotlib.collections.PathCollection at 0x7f88dfee2380>"
      ]
     },
     "execution_count": 2,
     "metadata": {},
     "output_type": "execute_result"
    },
    {
     "data": {
      "image/png": "[encoded data removed]",
      "text/plain": [
       "<Figure size 640x480 with 1 Axes>"
      ]
     },
     "metadata": {},
     "output_type": "display_data"
    }
   ],
   "source": [
    "from sklearn.preprocessing import MinMaxScaler\n",
    "from sklearn.cluster import KMeans\n",
    "import pandas as pd\n",
    "import matplotlib.pylab as plt\n",
    "\n",
    "a= pd.read_csv('income.csv')\n",
    "\n",
    "#plt.scatter(a.Age,a['Income($)'])\n",
    "\n",
    "b=KMeans(n_clusters=3)\n",
    "c=b.fit_predict(a[['Age','Income($)']])\n",
    "a['cluster']=c\n",
    "clust= b.cluster_centers_\n",
    "\n",
    "df0=a[a.cluster==0]\n",
    "df1=a[a.cluster==1]\n",
    "df2=a[a.cluster==2]\n",
    "\n",
    "plt.scatter(df0.Age,df0['Income($)'],color='red')\n",
    "plt.scatter(df1.Age,df1['Income($)'],color='black')\n",
    "plt.scatter(df2.Age,df2['Income($)'],color='green')\n",
    "plt.scatter(clust[:,0],clust[:,1],marker='*',color='pink',label='centroid')"
   ]
  },
  {
   "cell_type": "code",
   "execution_count": 33,
   "metadata": {},
   "outputs": [
    {
     "name": "stderr",
     "output_type": "stream",
     "text": [
      "/home/codespace/.local/lib/python3.10/site-packages/sklearn/cluster/_kmeans.py:870: FutureWarning: The default value of `n_init` will change from 10 to 'auto' in 1.4. Set the value of `n_init` explicitly to suppress the warning\n",
      "  warnings.warn(\n",
      "/home/codespace/.local/lib/python3.10/site-packages/sklearn/cluster/_kmeans.py:870: FutureWarning: The default value of `n_init` will change from 10 to 'auto' in 1.4. Set the value of `n_init` explicitly to suppress the warning\n",
      "  warnings.warn(\n",
      "/home/codespace/.local/lib/python3.10/site-packages/sklearn/cluster/_kmeans.py:870: FutureWarning: The default value of `n_init` will change from 10 to 'auto' in 1.4. Set the value of `n_init` explicitly to suppress the warning\n",
      "  warnings.warn(\n",
      "/home/codespace/.local/lib/python3.10/site-packages/sklearn/cluster/_kmeans.py:870: FutureWarning: The default value of `n_init` will change from 10 to 'auto' in 1.4. Set the value of `n_init` explicitly to suppress the warning\n",
      "  warnings.warn(\n",
      "/home/codespace/.local/lib/python3.10/site-packages/sklearn/cluster/_kmeans.py:870: FutureWarning: The default value of `n_init` will change from 10 to 'auto' in 1.4. Set the value of `n_init` explicitly to suppress the warning\n",
      "  warnings.warn(\n",
      "/home/codespace/.local/lib/python3.10/site-packages/sklearn/cluster/_kmeans.py:870: FutureWarning: The default value of `n_init` will change from 10 to 'auto' in 1.4. Set the value of `n_init` explicitly to suppress the warning\n",
      "  warnings.warn(\n",
      "/home/codespace/.local/lib/python3.10/site-packages/sklearn/cluster/_kmeans.py:870: FutureWarning: The default value of `n_init` will change from 10 to 'auto' in 1.4. Set the value of `n_init` explicitly to suppress the warning\n",
      "  warnings.warn(\n",
      "/home/codespace/.local/lib/python3.10/site-packages/sklearn/cluster/_kmeans.py:870: FutureWarning: The default value of `n_init` will change from 10 to 'auto' in 1.4. Set the value of `n_init` explicitly to suppress the warning\n",
      "  warnings.warn(\n",
      "/home/codespace/.local/lib/python3.10/site-packages/sklearn/cluster/_kmeans.py:870: FutureWarning: The default value of `n_init` will change from 10 to 'auto' in 1.4. Set the value of `n_init` explicitly to suppress the warning\n",
      "  warnings.warn(\n",
      "/home/codespace/.local/lib/python3.10/site-packages/sklearn/cluster/_kmeans.py:870: FutureWarning: The default value of `n_init` will change from 10 to 'auto' in 1.4. Set the value of `n_init` explicitly to suppress the warning\n",
      "  warnings.warn(\n"
     ]
    },
    {
     "data": {
      "text/plain": [
       "Text(0.5, 1.0, 'Elbow Method For Optimal k')"
      ]
     },
     "execution_count": 33,
     "metadata": {},
     "output_type": "execute_result"
    },
    {
     "data": {
      "image/png": "[encoded data removed]",
      "text/plain": [
       "<Figure size 640x480 with 1 Axes>"
      ]
     },
     "metadata": {},
     "output_type": "display_data"
    }
   ],
   "source": [
    "#scale dataset values\n",
    "scaler= MinMaxScaler()\n",
    "scaler.fit(a[['Age']])\n",
    "a['Age']=scaler.transform(a[['Age']])\n",
    "scaler.fit(a[['Income($)']])\n",
    "a['Income($)']=scaler.transform(a[['Income($)']])\n",
    "\n",
    "d=KMeans(n_clusters=3)\n",
    "aftscaler=d.fit_predict(a[['Age','Income($)']])\n",
    "a['cluster']=aftscaler\n",
    "clust2=d.cluster_centers_\n",
    "\n",
    "#df0=a[a.cluster==0]\n",
    "#df1=a[a.cluster==1]\n",
    "#df2=a[a.cluster==2]\n",
    "#\n",
    "#plt.scatter(df0.Age,df0['Income($)'],color='red')\n",
    "#plt.scatter(df1.Age,df1['Income($)'],color='black')\n",
    "#plt.scatter(df2.Age,df2['Income($)'],color='green')\n",
    "#plt.scatter(clust2[:,0],clust2[:,1],marker='*',color='pink',label='centroid')\n",
    "\n",
    "\n",
    "#Elbow Method For Optimal k\n",
    "soe = []\n",
    "for cluster in range(1,10) :\n",
    " kmeans = KMeans(n_clusters=cluster)\n",
    " kmeans.fit(a[['Age','Income($)']])\n",
    " soe.append(kmeans.inertia_)\n",
    "\n",
    "plt.plot(soe)\n",
    "plt.xlabel('Values of K') \n",
    "plt.ylabel('Sum of squared distances/Inertia') \n",
    "plt.title('Elbow Method For Optimal k')"
   ]
  },
  {
   "attachments": {},
   "cell_type": "markdown",
   "metadata": {},
   "source": [
    "## k-nearest neighbors(knn)"
   ]
  },
  {
   "cell_type": "code",
   "execution_count": 34,
   "metadata": {},
   "outputs": [
    {
     "name": "stdout",
     "output_type": "stream",
     "text": [
      "0.9666666666666667\n",
      "              precision    recall  f1-score   support\n",
      "\n",
      "           0       1.00      1.00      1.00         8\n",
      "           1       1.00      0.92      0.96        12\n",
      "           2       0.91      1.00      0.95        10\n",
      "\n",
      "    accuracy                           0.97        30\n",
      "   macro avg       0.97      0.97      0.97        30\n",
      "weighted avg       0.97      0.97      0.97        30\n",
      "\n"
     ]
    }
   ],
   "source": [
    "from sklearn.neighbors import KNeighborsClassifier\n",
    "from sklearn.model_selection import train_test_split\n",
    "import pandas as pd\n",
    "from sklearn.datasets import load_iris\n",
    "iri=load_iris()\n",
    "dir(iri)\n",
    "x_train,x_test,y_train,y_test=train_test_split(iri.data,iri.target,test_size=0.2)\n",
    "knn=KNeighborsClassifier(n_neighbors=5)\n",
    "knn.fit(x_train,y_train)\n",
    "print(knn.score(x_test,y_test))\n",
    "y_pre=knn.predict(x_test)\n",
    "\n",
    "\n",
    "from sklearn.metrics import classification_report\n",
    "print(classification_report(y_test,y_pre))"
   ]
  },
  {
   "attachments": {},
   "cell_type": "markdown",
   "metadata": {},
   "source": [
    "## pca(principal componant ratio) use to reduce unused feture"
   ]
  },
  {
   "cell_type": "code",
   "execution_count": 35,
   "metadata": {},
   "outputs": [
    {
     "name": "stdout",
     "output_type": "stream",
     "text": [
      "0.9583333333333334\n"
     ]
    },
    {
     "name": "stderr",
     "output_type": "stream",
     "text": [
      "/home/codespace/.local/lib/python3.10/site-packages/sklearn/linear_model/_logistic.py:458: ConvergenceWarning: lbfgs failed to converge (status=1):\n",
      "STOP: TOTAL NO. of ITERATIONS REACHED LIMIT.\n",
      "\n",
      "Increase the number of iterations (max_iter) or scale the data as shown in:\n",
      "    https://scikit-learn.org/stable/modules/preprocessing.html\n",
      "Please also refer to the documentation for alternative solver options:\n",
      "    https://scikit-learn.org/stable/modules/linear_model.html#logistic-regression\n",
      "  n_iter_i = _check_optimize_result(\n"
     ]
    }
   ],
   "source": [
    "from sklearn.preprocessing import StandardScaler\n",
    "from sklearn.decomposition import PCA\n",
    "import pandas as pd\n",
    "from sklearn.datasets import load_digits\n",
    "from sklearn.model_selection import train_test_split\n",
    "\n",
    "digit=load_digits()\n",
    "a= pd.DataFrame(digit.data,columns=digit.feature_names)\n",
    "a.describe()\n",
    "\n",
    "x=digit.data\n",
    "y=digit.target\n",
    "x.shape\n",
    "\n",
    "b=StandardScaler()\n",
    "c=b.fit_transform(digit.data)\n",
    "c.shape\n",
    "\n",
    "\n",
    "pca=PCA(n_components=64) # max component is 64 in image data arry\n",
    "e=x_train_pca=pca.fit_transform(c)\n",
    "e.shape\n",
    "\n",
    "x_train,x_test,y_train,y_test=train_test_split(e,y,test_size=0.2)\n",
    "\n",
    "\n",
    "\n",
    "from sklearn.linear_model import LogisticRegression\n",
    "lr=LogisticRegression()\n",
    "lr.fit(x_train,y_train)\n",
    "print(lr.score(x_test,y_test))\n"
   ]
  },
  {
   "attachments": {},
   "cell_type": "markdown",
   "metadata": {},
   "source": [
    "## bagging"
   ]
  },
  {
   "cell_type": "code",
   "execution_count": 36,
   "metadata": {},
   "outputs": [
    {
     "name": "stdout",
     "output_type": "stream",
     "text": [
      "0.6948051948051948\n",
      "0.7597402597402597\n"
     ]
    }
   ],
   "source": [
    "from sklearn.ensemble import BaggingClassifier\n",
    "from sklearn.tree import DecisionTreeClassifier\n",
    "from sklearn.model_selection import train_test_split\n",
    "import pandas as pd\n",
    "\n",
    "a=pd.read_csv('diabetes.csv')\n",
    "a.isna().sum()\n",
    "x=a.drop('Outcome',axis='columns')\n",
    "y=a.Outcome\n",
    "\n",
    "x_train,x_test,y_train,y_test=train_test_split(x,y,test_size=0.2)\n",
    "\n",
    "dt=DecisionTreeClassifier()\n",
    "dt.fit(x_train,y_train)\n",
    "\n",
    "print(dt.score(x_test,y_test))\n",
    "\n",
    "bg=BaggingClassifier(DecisionTreeClassifier(),max_samples=0.5,max_features=1.0,n_estimators=20)\n",
    "bg.fit(x_train,y_train)\n",
    "print(bg.score(x_test,y_test))"
   ]
  },
  {
   "cell_type": "code",
   "execution_count": null,
   "metadata": {},
   "outputs": [],
   "source": []
  }
 ],
 "metadata": {
  "kernelspec": {
   "display_name": "Python 3.10.4 64-bit",
   "language": "python",
   "name": "python3"
  },
  "language_info": {
   "codemirror_mode": {
    "name": "ipython",
    "version": 3
   },
   "file_extension": ".py",
   "mimetype": "text/x-python",
   "name": "python",
   "nbconvert_exporter": "python",
   "pygments_lexer": "ipython3",
   "version": "3.10.8"
  },
  "orig_nbformat": 4,
  "vscode": {
   "interpreter": {
    "hash": "3ad933181bd8a04b432d3370b9dc3b0662ad032c4dfaa4e4f1596c548f763858"
   }
  }
 },
 "nbformat": 4,
 "nbformat_minor": 2
}
