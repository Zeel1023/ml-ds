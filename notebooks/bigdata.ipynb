{
 "cells": [
  {
   "attachments": {},
   "cell_type": "markdown",
   "metadata": {},
   "source": [
    "## numpy slicing"
   ]
  },
  {
   "cell_type": "code",
   "execution_count": 1,
   "metadata": {},
   "outputs": [
    {
     "ename": "NameError",
     "evalue": "name 'nm' is not defined",
     "output_type": "error",
     "traceback": [
      "\u001b[0;31m---------------------------------------------------------------------------\u001b[0m",
      "\u001b[0;31mNameError\u001b[0m                                 Traceback (most recent call last)",
      "Cell \u001b[0;32mIn[1], line 1\u001b[0m\n\u001b[0;32m----> 1\u001b[0m arr1\u001b[39m=\u001b[39mnm\u001b[39m.\u001b[39marray([\u001b[39m1\u001b[39m,\u001b[39m2\u001b[39m,\u001b[39m34\u001b[39m,\u001b[39m56\u001b[39m])\n\u001b[1;32m      2\u001b[0m arr2\u001b[39m=\u001b[39marr1[\u001b[39m2\u001b[39m:\u001b[39m3\u001b[39m]\u001b[39m.\u001b[39mcopy()\n\u001b[1;32m      3\u001b[0m arr1[\u001b[39m0\u001b[39m]\u001b[39m=\u001b[39m\u001b[39m5\u001b[39m\n",
      "\u001b[0;31mNameError\u001b[0m: name 'nm' is not defined"
     ]
    }
   ],
   "source": [
    "arr1=nm.array([1,2,34,56])\n",
    "arr2=arr1[2:3].copy()\n",
    "arr1[0]=5\n",
    "print(arr1)\n",
    "print(arr2)\n",
    "\n"
   ]
  },
  {
   "cell_type": "code",
   "execution_count": null,
   "metadata": {},
   "outputs": [
    {
     "name": "stdout",
     "output_type": "stream",
     "text": [
      "[1 5 3]\n",
      "[ 5 -1  0]\n"
     ]
    }
   ],
   "source": [
    "a=nm.array([1,5,3])\n",
    "b=nm.array([1,5,4])\n",
    "print(nm.transpose(a))\n",
    "print(nm.cross(a,b))\n"
   ]
  },
  {
   "cell_type": "code",
   "execution_count": null,
   "metadata": {},
   "outputs": [
    {
     "name": "stdout",
     "output_type": "stream",
     "text": [
      "[[  2 453  23  54  34   3]\n",
      " [ 54  65   6   5   6   5]]\n"
     ]
    },
    {
     "data": {
      "text/plain": [
       "0"
      ]
     },
     "execution_count": 8,
     "metadata": {},
     "output_type": "execute_result"
    }
   ],
   "source": [
    "a=nm.array([[2,453,23,54,34,3],[54,65,6,5,6,5]])\n",
    "ab=a.reshape(2,6)\n",
    "print(ab)\n",
    "nm.argsort(a)\n",
    "nm.argmax(a)\n",
    "nm.argmin(a)"
   ]
  },
  {
   "attachments": {},
   "cell_type": "markdown",
   "metadata": {},
   "source": [
    "## pandas"
   ]
  },
  {
   "cell_type": "code",
   "execution_count": null,
   "metadata": {},
   "outputs": [
    {
     "name": "stdout",
     "output_type": "stream",
     "text": [
      "Empty DataFrame\n",
      "Columns: []\n",
      "Index: []\n",
      "    a   b   c   d    e    f     r\n",
      "0   5  45  45   5   54  4.0   NaN\n",
      "1  45  45  45   4   45  4.0   NaN\n",
      "2   4   5  45  54  545  NaN   NaN\n",
      "3   4   5   4  54    4  4.0  45.0\n",
      "(4, 7)\n",
      "    d\n",
      "2  54\n",
      "    a   b   c   d    e    f   r\n",
      "0   5  45  45   5   54  4.0 NaN\n",
      "1  45  45  45   4   45  4.0 NaN\n",
      "2   4   5  45  54  545  NaN NaN\n"
     ]
    }
   ],
   "source": [
    "import pandas as pd\n",
    "import numpy as nm\n",
    "df = pd.DataFrame() \n",
    "print(df)\n",
    "df1 = pd.DataFrame([[5,45,45,5,54,4],[45,45,45,4,45,4],[4,5,45,54,545],[4,5,4,54,4,4,45]],  columns=['a','b','c','d','e','f','r'])\n",
    "print(df1)\n",
    "print(df1.shape)\n",
    "print(df1.iloc[2:3,3:4])\n",
    "print(df1.head(3))"
   ]
  },
  {
   "cell_type": "code",
   "execution_count": null,
   "metadata": {},
   "outputs": [
    {
     "name": "stdout",
     "output_type": "stream",
     "text": [
      "   year  population\n",
      "0  2000       12400\n",
      "1  2001       12800\n",
      "2  2002       13800\n",
      "int64\n",
      "0     2000\n",
      "1     2001\n",
      "2     2002\n",
      "3     2003\n",
      "4     2004\n",
      "5     2005\n",
      "6     2006\n",
      "7     2007\n",
      "8     2008\n",
      "9     2009\n",
      "10    2010\n",
      "11    2011\n",
      "12    2012\n",
      "13    2013\n",
      "14    2014\n",
      "15    2015\n",
      "16    2016\n",
      "17    2017\n",
      "18    2018\n",
      "19    2019\n",
      "20    2020\n",
      "21    2021\n",
      "Name: year, dtype: category\n",
      "Categories (22, int64): [2000, 2001, 2002, 2003, ..., 2018, 2019, 2020, 2021]\n"
     ]
    }
   ],
   "source": [
    "abc = pd.read_csv('atlantis.csv')\n",
    "xy=abc.head(3)\n",
    "print(xy)\n",
    "print(abc['year'].dtype)\n",
    "print(abc['year'].astype('category'))"
   ]
  },
  {
   "attachments": {},
   "cell_type": "markdown",
   "metadata": {},
   "source": [
    "## dataframe to csv"
   ]
  },
  {
   "cell_type": "code",
   "execution_count": null,
   "metadata": {},
   "outputs": [],
   "source": [
    "df1.to_csv('export.csv',index=False)"
   ]
  },
  {
   "cell_type": "code",
   "execution_count": null,
   "metadata": {},
   "outputs": [
    {
     "data": {
      "text/html": [
       "<div>\n",
       "<style scoped>\n",
       "    .dataframe tbody tr th:only-of-type {\n",
       "        vertical-align: middle;\n",
       "    }\n",
       "\n",
       "    .dataframe tbody tr th {\n",
       "        vertical-align: top;\n",
       "    }\n",
       "\n",
       "    .dataframe thead th {\n",
       "        text-align: right;\n",
       "    }\n",
       "</style>\n",
       "<table border=\"1\" class=\"dataframe\">\n",
       "  <thead>\n",
       "    <tr style=\"text-align: right;\">\n",
       "      <th></th>\n",
       "      <th>a_x</th>\n",
       "      <th>b_x</th>\n",
       "      <th>c_x</th>\n",
       "      <th>d_x</th>\n",
       "      <th>e_x</th>\n",
       "      <th>f_x</th>\n",
       "      <th>r_x</th>\n",
       "      <th>a_y</th>\n",
       "      <th>b_y</th>\n",
       "      <th>c_y</th>\n",
       "      <th>d_y</th>\n",
       "      <th>e_y</th>\n",
       "      <th>f_y</th>\n",
       "      <th>r_y</th>\n",
       "    </tr>\n",
       "  </thead>\n",
       "  <tbody>\n",
       "    <tr>\n",
       "      <th>0</th>\n",
       "      <td>5</td>\n",
       "      <td>45</td>\n",
       "      <td>45</td>\n",
       "      <td>5</td>\n",
       "      <td>54</td>\n",
       "      <td>4.0</td>\n",
       "      <td>NaN</td>\n",
       "      <td>4</td>\n",
       "      <td>5</td>\n",
       "      <td>4</td>\n",
       "      <td>5</td>\n",
       "      <td>4</td>\n",
       "      <td>4.0</td>\n",
       "      <td>45.0</td>\n",
       "    </tr>\n",
       "    <tr>\n",
       "      <th>1</th>\n",
       "      <td>45</td>\n",
       "      <td>45</td>\n",
       "      <td>45</td>\n",
       "      <td>4</td>\n",
       "      <td>45</td>\n",
       "      <td>4.0</td>\n",
       "      <td>NaN</td>\n",
       "      <td>4</td>\n",
       "      <td>5</td>\n",
       "      <td>4</td>\n",
       "      <td>5</td>\n",
       "      <td>4</td>\n",
       "      <td>4.0</td>\n",
       "      <td>45.0</td>\n",
       "    </tr>\n",
       "    <tr>\n",
       "      <th>2</th>\n",
       "      <td>4</td>\n",
       "      <td>5</td>\n",
       "      <td>4</td>\n",
       "      <td>54</td>\n",
       "      <td>4</td>\n",
       "      <td>4.0</td>\n",
       "      <td>45.0</td>\n",
       "      <td>4</td>\n",
       "      <td>5</td>\n",
       "      <td>4</td>\n",
       "      <td>5</td>\n",
       "      <td>4</td>\n",
       "      <td>4.0</td>\n",
       "      <td>45.0</td>\n",
       "    </tr>\n",
       "  </tbody>\n",
       "</table>\n",
       "</div>"
      ],
      "text/plain": [
       "   a_x  b_x  c_x  d_x  e_x  f_x   r_x  a_y  b_y  c_y  d_y  e_y  f_y   r_y\n",
       "0    5   45   45    5   54  4.0   NaN    4    5    4    5    4  4.0  45.0\n",
       "1   45   45   45    4   45  4.0   NaN    4    5    4    5    4  4.0  45.0\n",
       "2    4    5    4   54    4  4.0  45.0    4    5    4    5    4  4.0  45.0"
      ]
     },
     "execution_count": 23,
     "metadata": {},
     "output_type": "execute_result"
    }
   ],
   "source": [
    "df2 = pd.DataFrame([[5,45,5,5,54,4],[45,45,45,5,45,4],[4,5,45,4,545],[4,5,4,5,4,4,45]],  columns=['a','b','c','d','e','f','r'])\n",
    "pd.merge(df1,df2,right_on='c',left_on='f')"
   ]
  },
  {
   "attachments": {},
   "cell_type": "markdown",
   "metadata": {},
   "source": [
    "## json"
   ]
  },
  {
   "cell_type": "code",
   "execution_count": null,
   "metadata": {},
   "outputs": [
    {
     "name": "stdout",
     "output_type": "stream",
     "text": [
      "{'fruit': 'Apple', 'size': 'Large', 'color': 'Red'}\n"
     ]
    }
   ],
   "source": [
    "import json\n",
    "a = '''{\n",
    "    \"fruit\": \"Apple\",\n",
    "    \"size\": \"Large\",\n",
    "    \"color\": \"Red\"\n",
    "}'''\n",
    "\n",
    "b=json.loads(a)\n",
    "print(b)"
   ]
  },
  {
   "attachments": {},
   "cell_type": "markdown",
   "metadata": {},
   "source": [
    "## matplotlib"
   ]
  },
  {
   "cell_type": "code",
   "execution_count": 7,
   "metadata": {},
   "outputs": [
    {
     "data": {
      "image/png": "[encoded data removed]",
      "text/plain": [
       "<Figure size 640x480 with 1 Axes>"
      ]
     },
     "metadata": {},
     "output_type": "display_data"
    }
   ],
   "source": [
    "from matplotlib import pyplot as plt\n",
    "plt.plot([1,2,3],[3,4,5])\n",
    "plt.title(\"zeel's data\")\n",
    "plt.xlabel(\"x\")\n",
    "plt.ylabel(\"y\")\n",
    "plt.show()\n"
   ]
  },
  {
   "cell_type": "code",
   "execution_count": 21,
   "metadata": {},
   "outputs": [
    {
     "data": {
      "image/png": "[encoded data removed]",
      "text/plain": [
       "<Figure size 640x480 with 1 Axes>"
      ]
     },
     "metadata": {},
     "output_type": "display_data"
    }
   ],
   "source": [
    "from matplotlib import style\n",
    "style.use('ggplot')\n",
    "x = [1,2,3]\n",
    "y = [4,4,3]\n",
    "plt.plot(x,y,label='first',linewidth=5) \n",
    "plt.scatter(x,y,label='first',linewidth=5)\n",
    "plt.legend()\n",
    "plt.xlabel(\"x\")\n",
    "plt.ylabel(\"y\")\n",
    "plt.show()"
   ]
  },
  {
   "cell_type": "code",
   "execution_count": null,
   "metadata": {},
   "outputs": [],
   "source": []
  }
 ],
 "metadata": {
  "kernelspec": {
   "display_name": "Python 3",
   "language": "python",
   "name": "python3"
  },
  "language_info": {
   "codemirror_mode": {
    "name": "ipython",
    "version": 3
   },
   "file_extension": ".py",
   "mimetype": "text/x-python",
   "name": "python",
   "nbconvert_exporter": "python",
   "pygments_lexer": "ipython3",
   "version": "3.10.8"
  },
  "orig_nbformat": 4
 },
 "nbformat": 4,
 "nbformat_minor": 2
}
